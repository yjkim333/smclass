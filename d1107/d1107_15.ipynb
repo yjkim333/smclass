{
 "cells": [
  {
   "cell_type": "code",
   "execution_count": 129,
   "metadata": {},
   "outputs": [],
   "source": [
    "import pandas as pd\n",
    "import numpy as np\n",
    "df = pd.read_excel('score.xlsx',index_col='지원번호')"
   ]
  },
  {
   "cell_type": "code",
   "execution_count": 130,
   "metadata": {},
   "outputs": [
    {
     "name": "stderr",
     "output_type": "stream",
     "text": [
      "c:\\python\\Lib\\site-packages\\openpyxl\\styles\\stylesheet.py:237: UserWarning: Workbook contains no default style, apply openpyxl's default\n",
      "  warn(\"Workbook contains no default style, apply openpyxl's default\")\n"
     ]
    },
    {
     "data": {
      "text/plain": [
       "Index(['전국'], dtype='object', name='행정기관')"
      ]
     },
     "execution_count": 130,
     "metadata": {},
     "output_type": "execute_result"
    }
   ],
   "source": [
    "df = pd.read_excel('연령별인구현황01.xlsx',index_col='행정기관',skiprows=3,nrows=1,usecols='b,e:y')\n",
    "df.index\n",
    "# 빈공백제거\n",
    "df.index[0].strip()\n",
    "# index 1번째 row 데이터를 출력\n",
    "df.loc['전국  ']\n",
    "df.loc[df.index[0]]\n",
    "\n",
    "## index 이름 변경\n",
    "df.rename(index={df.index[0]:df.index[0].strip()},inplace=True)\n",
    "\n",
    "df.index"
   ]
  },
  {
   "cell_type": "code",
   "execution_count": 131,
   "metadata": {},
   "outputs": [
    {
     "data": {
      "text/plain": [
       "0~4세         678,966\n",
       "5~9세       1,019,087\n",
       "10~14세     1,195,436\n",
       "15~19세     1,195,498\n",
       "20~24세     1,446,090\n",
       "25~29세     1,777,534\n",
       "30~34세     1,788,146\n",
       "35~39세     1,629,589\n",
       "40~44세     2,055,022\n",
       "45~49세     1,965,092\n",
       "50~54세     2,279,578\n",
       "55~59세     2,115,365\n",
       "60~64세     2,093,694\n",
       "65~69세     1,670,380\n",
       "70~74세     1,066,316\n",
       "75~79세       760,968\n",
       "80~84세       519,583\n",
       "85~89세       231,644\n",
       "90~94세        59,761\n",
       "95~99세         9,722\n",
       "100세 이상        1,473\n",
       "Name: 전국, dtype: object"
      ]
     },
     "execution_count": 131,
     "metadata": {},
     "output_type": "execute_result"
    }
   ],
   "source": [
    "df.loc['전국']"
   ]
  },
  {
   "cell_type": "code",
   "execution_count": 132,
   "metadata": {},
   "outputs": [
    {
     "data": {
      "text/html": [
       "<div>\n",
       "<style scoped>\n",
       "    .dataframe tbody tr th:only-of-type {\n",
       "        vertical-align: middle;\n",
       "    }\n",
       "\n",
       "    .dataframe tbody tr th {\n",
       "        vertical-align: top;\n",
       "    }\n",
       "\n",
       "    .dataframe thead th {\n",
       "        text-align: right;\n",
       "    }\n",
       "</style>\n",
       "<table border=\"1\" class=\"dataframe\">\n",
       "  <thead>\n",
       "    <tr style=\"text-align: right;\">\n",
       "      <th></th>\n",
       "      <th>0~4세</th>\n",
       "      <th>5~9세</th>\n",
       "      <th>10~14세</th>\n",
       "      <th>15~19세</th>\n",
       "      <th>20~24세</th>\n",
       "      <th>25~29세</th>\n",
       "      <th>30~34세</th>\n",
       "      <th>35~39세</th>\n",
       "      <th>40~44세</th>\n",
       "      <th>45~49세</th>\n",
       "      <th>...</th>\n",
       "      <th>55~59세</th>\n",
       "      <th>60~64세</th>\n",
       "      <th>65~69세</th>\n",
       "      <th>70~74세</th>\n",
       "      <th>75~79세</th>\n",
       "      <th>80~84세</th>\n",
       "      <th>85~89세</th>\n",
       "      <th>90~94세</th>\n",
       "      <th>95~99세</th>\n",
       "      <th>100세 이상</th>\n",
       "    </tr>\n",
       "    <tr>\n",
       "      <th>행정기관</th>\n",
       "      <th></th>\n",
       "      <th></th>\n",
       "      <th></th>\n",
       "      <th></th>\n",
       "      <th></th>\n",
       "      <th></th>\n",
       "      <th></th>\n",
       "      <th></th>\n",
       "      <th></th>\n",
       "      <th></th>\n",
       "      <th></th>\n",
       "      <th></th>\n",
       "      <th></th>\n",
       "      <th></th>\n",
       "      <th></th>\n",
       "      <th></th>\n",
       "      <th></th>\n",
       "      <th></th>\n",
       "      <th></th>\n",
       "      <th></th>\n",
       "      <th></th>\n",
       "    </tr>\n",
       "  </thead>\n",
       "  <tbody>\n",
       "    <tr>\n",
       "      <th>전국</th>\n",
       "      <td>678966</td>\n",
       "      <td>1019087</td>\n",
       "      <td>1195436</td>\n",
       "      <td>1195498</td>\n",
       "      <td>1446090</td>\n",
       "      <td>1777534</td>\n",
       "      <td>1788146</td>\n",
       "      <td>1629589</td>\n",
       "      <td>2055022</td>\n",
       "      <td>1965092</td>\n",
       "      <td>...</td>\n",
       "      <td>2115365</td>\n",
       "      <td>2093694</td>\n",
       "      <td>1670380</td>\n",
       "      <td>1066316</td>\n",
       "      <td>760968</td>\n",
       "      <td>519583</td>\n",
       "      <td>231644</td>\n",
       "      <td>59761</td>\n",
       "      <td>9722</td>\n",
       "      <td>1473</td>\n",
       "    </tr>\n",
       "  </tbody>\n",
       "</table>\n",
       "<p>1 rows × 21 columns</p>\n",
       "</div>"
      ],
      "text/plain": [
       "        0~4세     5~9세   10~14세   15~19세   20~24세   25~29세   30~34세   35~39세  \\\n",
       "행정기관                                                                          \n",
       "전국    678966  1019087  1195436  1195498  1446090  1777534  1788146  1629589   \n",
       "\n",
       "       40~44세   45~49세  ...   55~59세   60~64세   65~69세   70~74세  75~79세  \\\n",
       "행정기관                    ...                                               \n",
       "전국    2055022  1965092  ...  2115365  2093694  1670380  1066316  760968   \n",
       "\n",
       "      80~84세  85~89세 90~94세 95~99세 100세 이상  \n",
       "행정기관                                        \n",
       "전국    519583  231644  59761   9722    1473  \n",
       "\n",
       "[1 rows x 21 columns]"
      ]
     },
     "execution_count": 132,
     "metadata": {},
     "output_type": "execute_result"
    }
   ],
   "source": [
    "df.loc['전국'] = df.loc['전국'].str.replace(\",\",\"\").astype(int)\n",
    "df"
   ]
  },
  {
   "cell_type": "code",
   "execution_count": 133,
   "metadata": {},
   "outputs": [],
   "source": [
    "df = df.T\n",
    "# df.info()"
   ]
  },
  {
   "cell_type": "code",
   "execution_count": 134,
   "metadata": {},
   "outputs": [
    {
     "data": {
      "text/html": [
       "<div>\n",
       "<style scoped>\n",
       "    .dataframe tbody tr th:only-of-type {\n",
       "        vertical-align: middle;\n",
       "    }\n",
       "\n",
       "    .dataframe tbody tr th {\n",
       "        vertical-align: top;\n",
       "    }\n",
       "\n",
       "    .dataframe thead th {\n",
       "        text-align: right;\n",
       "    }\n",
       "</style>\n",
       "<table border=\"1\" class=\"dataframe\">\n",
       "  <thead>\n",
       "    <tr style=\"text-align: right;\">\n",
       "      <th>행정기관</th>\n",
       "      <th>전국</th>\n",
       "    </tr>\n",
       "  </thead>\n",
       "  <tbody>\n",
       "    <tr>\n",
       "      <th>0~4세</th>\n",
       "      <td>678966</td>\n",
       "    </tr>\n",
       "    <tr>\n",
       "      <th>5~9세</th>\n",
       "      <td>1019087</td>\n",
       "    </tr>\n",
       "    <tr>\n",
       "      <th>10~14세</th>\n",
       "      <td>1195436</td>\n",
       "    </tr>\n",
       "    <tr>\n",
       "      <th>15~19세</th>\n",
       "      <td>1195498</td>\n",
       "    </tr>\n",
       "    <tr>\n",
       "      <th>20~24세</th>\n",
       "      <td>1446090</td>\n",
       "    </tr>\n",
       "    <tr>\n",
       "      <th>25~29세</th>\n",
       "      <td>1777534</td>\n",
       "    </tr>\n",
       "    <tr>\n",
       "      <th>30~34세</th>\n",
       "      <td>1788146</td>\n",
       "    </tr>\n",
       "    <tr>\n",
       "      <th>35~39세</th>\n",
       "      <td>1629589</td>\n",
       "    </tr>\n",
       "    <tr>\n",
       "      <th>40~44세</th>\n",
       "      <td>2055022</td>\n",
       "    </tr>\n",
       "    <tr>\n",
       "      <th>45~49세</th>\n",
       "      <td>1965092</td>\n",
       "    </tr>\n",
       "    <tr>\n",
       "      <th>50~54세</th>\n",
       "      <td>2279578</td>\n",
       "    </tr>\n",
       "    <tr>\n",
       "      <th>55~59세</th>\n",
       "      <td>2115365</td>\n",
       "    </tr>\n",
       "    <tr>\n",
       "      <th>60~64세</th>\n",
       "      <td>2093694</td>\n",
       "    </tr>\n",
       "    <tr>\n",
       "      <th>65~69세</th>\n",
       "      <td>1670380</td>\n",
       "    </tr>\n",
       "    <tr>\n",
       "      <th>70~74세</th>\n",
       "      <td>1066316</td>\n",
       "    </tr>\n",
       "    <tr>\n",
       "      <th>75~79세</th>\n",
       "      <td>760968</td>\n",
       "    </tr>\n",
       "    <tr>\n",
       "      <th>80~84세</th>\n",
       "      <td>519583</td>\n",
       "    </tr>\n",
       "    <tr>\n",
       "      <th>85~89세</th>\n",
       "      <td>231644</td>\n",
       "    </tr>\n",
       "    <tr>\n",
       "      <th>90~94세</th>\n",
       "      <td>59761</td>\n",
       "    </tr>\n",
       "    <tr>\n",
       "      <th>95~99세</th>\n",
       "      <td>9722</td>\n",
       "    </tr>\n",
       "    <tr>\n",
       "      <th>100세 이상</th>\n",
       "      <td>1473</td>\n",
       "    </tr>\n",
       "  </tbody>\n",
       "</table>\n",
       "</div>"
      ],
      "text/plain": [
       "행정기관          전국\n",
       "0~4세      678966\n",
       "5~9세     1019087\n",
       "10~14세   1195436\n",
       "15~19세   1195498\n",
       "20~24세   1446090\n",
       "25~29세   1777534\n",
       "30~34세   1788146\n",
       "35~39세   1629589\n",
       "40~44세   2055022\n",
       "45~49세   1965092\n",
       "50~54세   2279578\n",
       "55~59세   2115365\n",
       "60~64세   2093694\n",
       "65~69세   1670380\n",
       "70~74세   1066316\n",
       "75~79세    760968\n",
       "80~84세    519583\n",
       "85~89세    231644\n",
       "90~94세     59761\n",
       "95~99세      9722\n",
       "100세 이상     1473"
      ]
     },
     "execution_count": 134,
     "metadata": {},
     "output_type": "execute_result"
    }
   ],
   "source": [
    "df"
   ]
  },
  {
   "cell_type": "code",
   "execution_count": 135,
   "metadata": {},
   "outputs": [
    {
     "data": {
      "text/plain": [
       "2279578"
      ]
     },
     "execution_count": 135,
     "metadata": {},
     "output_type": "execute_result"
    }
   ],
   "source": [
    "df['전국'].min()\n",
    "df['전국'].max()"
   ]
  },
  {
   "cell_type": "code",
   "execution_count": 136,
   "metadata": {},
   "outputs": [],
   "source": [
    "# 이름변경\n",
    "# 출생아 수 최대값 최소값 출력\n",
    "# 축변경"
   ]
  },
  {
   "cell_type": "code",
   "execution_count": 137,
   "metadata": {},
   "outputs": [
    {
     "name": "stderr",
     "output_type": "stream",
     "text": [
      "c:\\python\\Lib\\site-packages\\openpyxl\\styles\\stylesheet.py:237: UserWarning: Workbook contains no default style, apply openpyxl's default\n",
      "  warn(\"Workbook contains no default style, apply openpyxl's default\")\n"
     ]
    },
    {
     "data": {
      "text/html": [
       "<div>\n",
       "<style scoped>\n",
       "    .dataframe tbody tr th:only-of-type {\n",
       "        vertical-align: middle;\n",
       "    }\n",
       "\n",
       "    .dataframe tbody tr th {\n",
       "        vertical-align: top;\n",
       "    }\n",
       "\n",
       "    .dataframe thead th {\n",
       "        text-align: right;\n",
       "    }\n",
       "</style>\n",
       "<table border=\"1\" class=\"dataframe\">\n",
       "  <thead>\n",
       "    <tr style=\"text-align: right;\">\n",
       "      <th></th>\n",
       "      <th>2014</th>\n",
       "      <th>2015</th>\n",
       "      <th>2016</th>\n",
       "      <th>2017</th>\n",
       "      <th>2018</th>\n",
       "      <th>2019</th>\n",
       "      <th>2020</th>\n",
       "      <th>2021</th>\n",
       "      <th>2022</th>\n",
       "      <th>2023</th>\n",
       "    </tr>\n",
       "    <tr>\n",
       "      <th>목록</th>\n",
       "      <th></th>\n",
       "      <th></th>\n",
       "      <th></th>\n",
       "      <th></th>\n",
       "      <th></th>\n",
       "      <th></th>\n",
       "      <th></th>\n",
       "      <th></th>\n",
       "      <th></th>\n",
       "      <th></th>\n",
       "    </tr>\n",
       "  </thead>\n",
       "  <tbody>\n",
       "    <tr>\n",
       "      <th>출생아 수</th>\n",
       "      <td>435.400</td>\n",
       "      <td>438.400</td>\n",
       "      <td>406.200</td>\n",
       "      <td>357.800</td>\n",
       "      <td>326.800</td>\n",
       "      <td>302.700</td>\n",
       "      <td>272.300</td>\n",
       "      <td>260.600</td>\n",
       "      <td>249.10</td>\n",
       "      <td>230.00</td>\n",
       "    </tr>\n",
       "    <tr>\n",
       "      <th>합계 출산율</th>\n",
       "      <td>1.205</td>\n",
       "      <td>1.239</td>\n",
       "      <td>1.172</td>\n",
       "      <td>1.052</td>\n",
       "      <td>0.977</td>\n",
       "      <td>0.918</td>\n",
       "      <td>0.837</td>\n",
       "      <td>0.808</td>\n",
       "      <td>0.78</td>\n",
       "      <td>0.72</td>\n",
       "    </tr>\n",
       "  </tbody>\n",
       "</table>\n",
       "</div>"
      ],
      "text/plain": [
       "           2014     2015     2016     2017     2018     2019     2020  \\\n",
       "목록                                                                      \n",
       "출생아 수   435.400  438.400  406.200  357.800  326.800  302.700  272.300   \n",
       "합계 출산율    1.205    1.239    1.172    1.052    0.977    0.918    0.837   \n",
       "\n",
       "           2021    2022    2023  \n",
       "목록                               \n",
       "출생아 수   260.600  249.10  230.00  \n",
       "합계 출산율    0.808    0.78    0.72  "
      ]
     },
     "execution_count": 137,
     "metadata": {},
     "output_type": "execute_result"
    }
   ],
   "source": [
    "df = pd.read_excel('출산율2.xlsx',skiprows=2,skipfooter=2,index_col=0)\n",
    "df.index.name = '목록'\n",
    "df"
   ]
  },
  {
   "cell_type": "code",
   "execution_count": 138,
   "metadata": {},
   "outputs": [
    {
     "data": {
      "text/plain": [
       "array(['출생아\\xa0수', '합계\\xa0출산율'], dtype=object)"
      ]
     },
     "execution_count": 138,
     "metadata": {},
     "output_type": "execute_result"
    }
   ],
   "source": [
    "df.index\n",
    "df.index.values"
   ]
  },
  {
   "cell_type": "code",
   "execution_count": 139,
   "metadata": {},
   "outputs": [],
   "source": [
    "df.loc['출생아\\xa0수']\n",
    "df.loc[df.index[0]]\n",
    "\n",
    "df.rename(index={'출생아\\xa0수':'출생아 수','합계\\xa0출산율':'합계 출산율'},inplace=True)"
   ]
  },
  {
   "cell_type": "code",
   "execution_count": 140,
   "metadata": {},
   "outputs": [
    {
     "data": {
      "text/plain": [
       "array(['출생아 수', '합계 출산율'], dtype=object)"
      ]
     },
     "execution_count": 140,
     "metadata": {},
     "output_type": "execute_result"
    }
   ],
   "source": [
    "df.index.values"
   ]
  },
  {
   "cell_type": "code",
   "execution_count": 141,
   "metadata": {},
   "outputs": [
    {
     "data": {
      "text/plain": [
       "2014    1.205\n",
       "2015    1.239\n",
       "2016    1.172\n",
       "2017    1.052\n",
       "2018    0.977\n",
       "2019    0.918\n",
       "2020    0.837\n",
       "2021    0.808\n",
       "2022    0.780\n",
       "2023    0.720\n",
       "Name: 합계 출산율, dtype: float64"
      ]
     },
     "execution_count": 141,
     "metadata": {},
     "output_type": "execute_result"
    }
   ],
   "source": [
    "df.loc['출생아 수'].astype(float)\n",
    "df.loc['합계 출산율'].astype(float)"
   ]
  },
  {
   "cell_type": "code",
   "execution_count": 142,
   "metadata": {},
   "outputs": [
    {
     "data": {
      "text/html": [
       "<div>\n",
       "<style scoped>\n",
       "    .dataframe tbody tr th:only-of-type {\n",
       "        vertical-align: middle;\n",
       "    }\n",
       "\n",
       "    .dataframe tbody tr th {\n",
       "        vertical-align: top;\n",
       "    }\n",
       "\n",
       "    .dataframe thead th {\n",
       "        text-align: right;\n",
       "    }\n",
       "</style>\n",
       "<table border=\"1\" class=\"dataframe\">\n",
       "  <thead>\n",
       "    <tr style=\"text-align: right;\">\n",
       "      <th>목록</th>\n",
       "      <th>출생아 수</th>\n",
       "      <th>합계 출산율</th>\n",
       "    </tr>\n",
       "  </thead>\n",
       "  <tbody>\n",
       "    <tr>\n",
       "      <th>2014</th>\n",
       "      <td>435.4</td>\n",
       "      <td>1.205</td>\n",
       "    </tr>\n",
       "    <tr>\n",
       "      <th>2015</th>\n",
       "      <td>438.4</td>\n",
       "      <td>1.239</td>\n",
       "    </tr>\n",
       "    <tr>\n",
       "      <th>2016</th>\n",
       "      <td>406.2</td>\n",
       "      <td>1.172</td>\n",
       "    </tr>\n",
       "    <tr>\n",
       "      <th>2017</th>\n",
       "      <td>357.8</td>\n",
       "      <td>1.052</td>\n",
       "    </tr>\n",
       "    <tr>\n",
       "      <th>2018</th>\n",
       "      <td>326.8</td>\n",
       "      <td>0.977</td>\n",
       "    </tr>\n",
       "    <tr>\n",
       "      <th>2019</th>\n",
       "      <td>302.7</td>\n",
       "      <td>0.918</td>\n",
       "    </tr>\n",
       "    <tr>\n",
       "      <th>2020</th>\n",
       "      <td>272.3</td>\n",
       "      <td>0.837</td>\n",
       "    </tr>\n",
       "    <tr>\n",
       "      <th>2021</th>\n",
       "      <td>260.6</td>\n",
       "      <td>0.808</td>\n",
       "    </tr>\n",
       "    <tr>\n",
       "      <th>2022</th>\n",
       "      <td>249.1</td>\n",
       "      <td>0.780</td>\n",
       "    </tr>\n",
       "    <tr>\n",
       "      <th>2023</th>\n",
       "      <td>230.0</td>\n",
       "      <td>0.720</td>\n",
       "    </tr>\n",
       "  </tbody>\n",
       "</table>\n",
       "</div>"
      ],
      "text/plain": [
       "목록    출생아 수  합계 출산율\n",
       "2014  435.4   1.205\n",
       "2015  438.4   1.239\n",
       "2016  406.2   1.172\n",
       "2017  357.8   1.052\n",
       "2018  326.8   0.977\n",
       "2019  302.7   0.918\n",
       "2020  272.3   0.837\n",
       "2021  260.6   0.808\n",
       "2022  249.1   0.780\n",
       "2023  230.0   0.720"
      ]
     },
     "execution_count": 142,
     "metadata": {},
     "output_type": "execute_result"
    }
   ],
   "source": [
    "df = df.T\n",
    "df"
   ]
  },
  {
   "cell_type": "code",
   "execution_count": 143,
   "metadata": {},
   "outputs": [
    {
     "data": {
      "text/plain": [
       "np.float64(438.4)"
      ]
     },
     "execution_count": 143,
     "metadata": {},
     "output_type": "execute_result"
    }
   ],
   "source": [
    "df['출생아 수'].min()\n",
    "df['출생아 수'].max()"
   ]
  },
  {
   "cell_type": "code",
   "execution_count": 145,
   "metadata": {},
   "outputs": [
    {
     "data": {
      "text/html": [
       "<div>\n",
       "<style scoped>\n",
       "    .dataframe tbody tr th:only-of-type {\n",
       "        vertical-align: middle;\n",
       "    }\n",
       "\n",
       "    .dataframe tbody tr th {\n",
       "        vertical-align: top;\n",
       "    }\n",
       "\n",
       "    .dataframe thead th {\n",
       "        text-align: right;\n",
       "    }\n",
       "</style>\n",
       "<table border=\"1\" class=\"dataframe\">\n",
       "  <thead>\n",
       "    <tr style=\"text-align: right;\">\n",
       "      <th>목록</th>\n",
       "      <th>출생아 수</th>\n",
       "      <th>합계 출산율</th>\n",
       "    </tr>\n",
       "  </thead>\n",
       "  <tbody>\n",
       "    <tr>\n",
       "      <th>2014</th>\n",
       "      <td>435.4</td>\n",
       "      <td>1.205</td>\n",
       "    </tr>\n",
       "    <tr>\n",
       "      <th>2015</th>\n",
       "      <td>438.4</td>\n",
       "      <td>1.239</td>\n",
       "    </tr>\n",
       "    <tr>\n",
       "      <th>2016</th>\n",
       "      <td>406.2</td>\n",
       "      <td>1.172</td>\n",
       "    </tr>\n",
       "    <tr>\n",
       "      <th>2017</th>\n",
       "      <td>357.8</td>\n",
       "      <td>1.052</td>\n",
       "    </tr>\n",
       "  </tbody>\n",
       "</table>\n",
       "</div>"
      ],
      "text/plain": [
       "목록    출생아 수  합계 출산율\n",
       "2014  435.4   1.205\n",
       "2015  438.4   1.239\n",
       "2016  406.2   1.172\n",
       "2017  357.8   1.052"
      ]
     },
     "execution_count": 145,
     "metadata": {},
     "output_type": "execute_result"
    }
   ],
   "source": [
    "filt = (df['출생아 수']>=300) & (df['합계 출산율']>=1)\n",
    "df[filt]"
   ]
  }
 ],
 "metadata": {
  "kernelspec": {
   "display_name": "Python 3",
   "language": "python",
   "name": "python3"
  },
  "language_info": {
   "codemirror_mode": {
    "name": "ipython",
    "version": 3
   },
   "file_extension": ".py",
   "mimetype": "text/x-python",
   "name": "python",
   "nbconvert_exporter": "python",
   "pygments_lexer": "ipython3",
   "version": "3.12.6"
  }
 },
 "nbformat": 4,
 "nbformat_minor": 2
}
