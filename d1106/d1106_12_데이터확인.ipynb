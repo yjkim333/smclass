{
 "cells": [
  {
   "cell_type": "code",
   "execution_count": 19,
   "metadata": {},
   "outputs": [
    {
     "data": {
      "text/plain": [
       "count    1000.000000\n",
       "mean       72.397000\n",
       "std        16.236595\n",
       "min        45.000000\n",
       "25%        59.000000\n",
       "50%        72.000000\n",
       "75%        86.000000\n",
       "max       100.000000\n",
       "Name: 수학, dtype: float64"
      ]
     },
     "execution_count": 19,
     "metadata": {},
     "output_type": "execute_result"
    }
   ],
   "source": [
    "import pandas as pd\n",
    "df = pd.read_excel('pandas_code.xlsx')\n",
    "df.describe()\n",
    "df['수학'].describe()"
   ]
  },
  {
   "cell_type": "markdown",
   "metadata": {},
   "source": [
    "기본 수치 계산에 대한 개별 정보 확인"
   ]
  },
  {
   "cell_type": "code",
   "execution_count": 20,
   "metadata": {},
   "outputs": [
    {
     "data": {
      "text/plain": [
       "18     45\n",
       "117    45\n",
       "188    45\n",
       "Name: 수학, dtype: int64"
      ]
     },
     "execution_count": 20,
     "metadata": {},
     "output_type": "execute_result"
    }
   ],
   "source": [
    "df['수학'].min()\t\t# 최소값\n",
    "df['수학'].max()\t\t# 최대값\n",
    "df['수학'].mean()\t\t# 평균\n",
    "df['수학'].std()\t\t# 표준편차\n",
    "df['수학'].nlargest(3)  # 최대값 3명 출력\n",
    "df['수학'].nsmallest(3) # 최소값 3명 출력"
   ]
  },
  {
   "cell_type": "code",
   "execution_count": 21,
   "metadata": {},
   "outputs": [
    {
     "data": {
      "text/plain": [
       "2"
      ]
     },
     "execution_count": 21,
     "metadata": {},
     "output_type": "execute_result"
    }
   ],
   "source": [
    "df = pd.read_excel('score.xlsx')\n",
    "df['키'].min()\n",
    "df['키'].max()\n",
    "df['키'].mean()\n",
    "df['키'].nlargest(3)\t# 숫자 입력 안하면 기본 5개 출력\n",
    "df['키'].nsmallest(3)\n",
    "df['국어'].sum()\n",
    "df['키'].count()\n",
    "df['SW특기'].count()\n",
    "df['학교'].unique()\t\t# 중복제거 후 데이터 확인\n",
    "df['학교'].nunique()\t# 중복제거 개수 확인"
   ]
  },
  {
   "cell_type": "code",
   "execution_count": 25,
   "metadata": {},
   "outputs": [
    {
     "data": {
      "text/html": [
       "<div>\n",
       "<style scoped>\n",
       "    .dataframe tbody tr th:only-of-type {\n",
       "        vertical-align: middle;\n",
       "    }\n",
       "\n",
       "    .dataframe tbody tr th {\n",
       "        vertical-align: top;\n",
       "    }\n",
       "\n",
       "    .dataframe thead th {\n",
       "        text-align: right;\n",
       "    }\n",
       "</style>\n",
       "<table border=\"1\" class=\"dataframe\">\n",
       "  <thead>\n",
       "    <tr style=\"text-align: right;\">\n",
       "      <th></th>\n",
       "      <th>지원번호</th>\n",
       "      <th>키</th>\n",
       "      <th>SW특기</th>\n",
       "    </tr>\n",
       "  </thead>\n",
       "  <tbody>\n",
       "    <tr>\n",
       "      <th>0</th>\n",
       "      <td>1번</td>\n",
       "      <td>197</td>\n",
       "      <td>Python</td>\n",
       "    </tr>\n",
       "    <tr>\n",
       "      <th>1</th>\n",
       "      <td>2번</td>\n",
       "      <td>184</td>\n",
       "      <td>Java</td>\n",
       "    </tr>\n",
       "    <tr>\n",
       "      <th>2</th>\n",
       "      <td>3번</td>\n",
       "      <td>168</td>\n",
       "      <td>Javascript</td>\n",
       "    </tr>\n",
       "    <tr>\n",
       "      <th>3</th>\n",
       "      <td>4번</td>\n",
       "      <td>187</td>\n",
       "      <td>NaN</td>\n",
       "    </tr>\n",
       "    <tr>\n",
       "      <th>4</th>\n",
       "      <td>5번</td>\n",
       "      <td>188</td>\n",
       "      <td>NaN</td>\n",
       "    </tr>\n",
       "    <tr>\n",
       "      <th>5</th>\n",
       "      <td>6번</td>\n",
       "      <td>202</td>\n",
       "      <td>C</td>\n",
       "    </tr>\n",
       "    <tr>\n",
       "      <th>6</th>\n",
       "      <td>7번</td>\n",
       "      <td>188</td>\n",
       "      <td>Python</td>\n",
       "    </tr>\n",
       "    <tr>\n",
       "      <th>7</th>\n",
       "      <td>8번</td>\n",
       "      <td>190</td>\n",
       "      <td>C#</td>\n",
       "    </tr>\n",
       "  </tbody>\n",
       "</table>\n",
       "</div>"
      ],
      "text/plain": [
       "  지원번호    키        SW특기\n",
       "0   1번  197      Python\n",
       "1   2번  184        Java\n",
       "2   3번  168  Javascript\n",
       "3   4번  187         NaN\n",
       "4   5번  188         NaN\n",
       "5   6번  202           C\n",
       "6   7번  188      Python\n",
       "7   8번  190          C#"
      ]
     },
     "execution_count": 25,
     "metadata": {},
     "output_type": "execute_result"
    }
   ],
   "source": [
    "# 컬럼에 대한 확인\n",
    "df['키']\t\t\t\t\t\t# 컬럼 1개 확인\n",
    "df[['이름','키']]\t\t# 컬럼 복수 확인\n",
    "df['키'],df['이름']\t\n",
    "\n",
    "# 모든 컬럼명 확인\n",
    "df.columns\n",
    "df.columns[0]\n",
    "df.columns[0:2]\t\t# 컬럼 슬라이싱\n",
    "df['이름']\t\t\t\t# 컬럼의 데이터 확인\n",
    "df.columns[-1]\n",
    "# 컬럼데이터 확인 - 제일 마지막 컬럼의 데이터 확인\n",
    "df['SW특기']\n",
    "df[df.columns[-1]]\n",
    "df[df.columns[[0,3,-1]]] # 0,3,마지막 컬럼 데이터 확인"
   ]
  },
  {
   "cell_type": "code",
   "execution_count": null,
   "metadata": {},
   "outputs": [],
   "source": []
  }
 ],
 "metadata": {
  "kernelspec": {
   "display_name": "Python 3",
   "language": "python",
   "name": "python3"
  },
  "language_info": {
   "codemirror_mode": {
    "name": "ipython",
    "version": 3
   },
   "file_extension": ".py",
   "mimetype": "text/x-python",
   "name": "python",
   "nbconvert_exporter": "python",
   "pygments_lexer": "ipython3",
   "version": "3.12.6"
  }
 },
 "nbformat": 4,
 "nbformat_minor": 2
}
